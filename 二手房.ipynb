{
 "cells": [
  {
   "cell_type": "code",
   "execution_count": null,
   "metadata": {},
   "outputs": [],
   "source": [
    "# - 项目内容：\n",
    "    - 1、二手房信息爬取\n",
    "    - 2、进行数据预处理\n",
    "    - 3、进行数据可视化\n",
    "    - 4、构建机器学习房价预测模型\n",
    "    - 5、预测房价"
   ]
  },
  {
   "cell_type": "markdown",
   "metadata": {},
   "source": [
    "# 1、房屋信息的爬取"
   ]
  },
  {
   "cell_type": "code",
   "execution_count": 3,
   "metadata": {},
   "outputs": [],
   "source": [
    "import requests\n",
    "from bs4 import BeautifulSoup\n",
    "\n",
    "def get_house(url):\n",
    "    '获取页面中每个房子的信息'\n",
    "    information = {} # 存储房屋所有信息\n",
    "    res = requests.get(url)\n",
    "    soup = BeautifulSoup(res.text,'html.parser')\n",
    "    \n",
    "    # 获取户型、建筑面积、单价、朝向、楼层、装修情况\n",
    "    houses = soup.select('.tab-cont-right .trl-item1') \n",
    "    for house in houses:\n",
    "        m = house.text.strip().split('\\n')\n",
    "        me = m[1]\n",
    "        if '朝向' in me:\n",
    "            me = me.strip('进门') \n",
    "        if '楼层'in me:\n",
    "            me = me[0:2]\n",
    "        if '地上层数' in me:\n",
    "            me = '楼层'\n",
    "        if '装修程度' in me:\n",
    "            me = '装修'\n",
    "        information[me] = m[0].strip()\n",
    "    \n",
    "    # 获取小区名字\n",
    "    name = soup.select('.rcont .blue')\n",
    "    information['小区名称'] = name[0].text\n",
    "    \n",
    "    # 获取房屋总价\n",
    "    price = soup.select('.trl-item')\n",
    "    information['房屋总价'] = price[0].text\n",
    "    return information\n"
   ]
  },
  {
   "cell_type": "code",
   "execution_count": 4,
   "metadata": {},
   "outputs": [],
   "source": [
    "import pandas as pd\n",
    "import time\n",
    "\n",
    "def get_page(i):\n",
    "    '分页爬取数据'\n",
    "    url = r'https://xm.esf.fang.com/house-a0352/i3{}/'.format(i) # 总共多少页\n",
    "    res = requests.get(url)\n",
    "    houses = BeautifulSoup(res.text,'html.parser')\n",
    "    #print(url)\n",
    "    j  = 1\n",
    "    houses = houses.select('.shop_list .clearfix h4 a')\n",
    "    page_information = [] # 数据存储\n",
    "    for house in houses:\n",
    "        try:\n",
    "            demo_url = house['href']\n",
    "            url = r'https://xm.esf.fang.com' + demo_url + '?channel=1,2&psid=1_{}_60'.format(j) # 每一页中有多少套房子\n",
    "            # 获取当前页中每套房子的信息\n",
    "            information = get_house(url)\n",
    "            print('正在爬取第{}页第{}套房子···'.format(i,j),end='\\r')\n",
    "            page_information.append(information)\n",
    "            j += 1\n",
    "            time.sleep(0.5) # 预防爬取频繁，防止ip被封\n",
    "        except Exception as e:\n",
    "            print('-------->',e)\n",
    "    #将爬取的数据转换为DataFrame格式\n",
    "    df = pd.DataFrame(page_information)\n",
    "    #df.to_csv('house.csv')\n",
    "    return df\n"
   ]
  },
  {
   "cell_type": "code",
   "execution_count": null,
   "metadata": {},
   "outputs": [],
   "source": [
    "# 正式爬取数据并保存为csv数据\n",
    "\n",
    "df = pd.DataFrame() # 创建一个空的DataFrame\n",
    "name_csv = 'house'\n",
    "for i in range(1,101): # 总共爬取100页数据\n",
    "    try:\n",
    "        df_get = get_page(i)\n",
    "        df = df.append(df_get)\n",
    "        print(df)\n",
    "    except Exception as e:\n",
    "        print('------->',e)\n",
    "    if i/100 == 1:\n",
    "        df.to_csv(name_csv+str(i)+'.csv')\n",
    "        df = pd.DataFrame() # 清空当前爬取完成的数据，防止内存溢出"
   ]
  },
  {
   "cell_type": "markdown",
   "metadata": {},
   "source": [
    "# 2、数据预处理"
   ]
  },
  {
   "cell_type": "code",
   "execution_count": 33,
   "metadata": {},
   "outputs": [],
   "source": [
    "import numpy as np\n",
    "import pandas as pd"
   ]
  },
  {
   "cell_type": "code",
   "execution_count": 76,
   "metadata": {},
   "outputs": [
    {
     "data": {
      "text/html": [
       "<div>\n",
       "<style scoped>\n",
       "    .dataframe tbody tr th:only-of-type {\n",
       "        vertical-align: middle;\n",
       "    }\n",
       "\n",
       "    .dataframe tbody tr th {\n",
       "        vertical-align: top;\n",
       "    }\n",
       "\n",
       "    .dataframe thead th {\n",
       "        text-align: right;\n",
       "    }\n",
       "</style>\n",
       "<table border=\"1\" class=\"dataframe\">\n",
       "  <thead>\n",
       "    <tr style=\"text-align: right;\">\n",
       "      <th></th>\n",
       "      <th>index</th>\n",
       "      <th>单价</th>\n",
       "      <th>小区名称</th>\n",
       "      <th>建筑面积</th>\n",
       "      <th>户型</th>\n",
       "      <th>房屋总价</th>\n",
       "      <th>朝向</th>\n",
       "      <th>楼层</th>\n",
       "      <th>装修</th>\n",
       "    </tr>\n",
       "  </thead>\n",
       "  <tbody>\n",
       "    <tr>\n",
       "      <th>0</th>\n",
       "      <td>0</td>\n",
       "      <td>41117元/平米</td>\n",
       "      <td>仙岳山庄</td>\n",
       "      <td>104.58平米</td>\n",
       "      <td>2室2厅2卫</td>\n",
       "      <td>430万</td>\n",
       "      <td>南北</td>\n",
       "      <td>低层</td>\n",
       "      <td>简装修</td>\n",
       "    </tr>\n",
       "    <tr>\n",
       "      <th>1</th>\n",
       "      <td>1</td>\n",
       "      <td>63489元/平米</td>\n",
       "      <td>禹洲华侨海景城</td>\n",
       "      <td>201.61平米</td>\n",
       "      <td>5室2厅2卫</td>\n",
       "      <td>1280万</td>\n",
       "      <td>东北</td>\n",
       "      <td>高层</td>\n",
       "      <td>豪华装修</td>\n",
       "    </tr>\n",
       "    <tr>\n",
       "      <th>2</th>\n",
       "      <td>2</td>\n",
       "      <td>58339元/平米</td>\n",
       "      <td>汇丰家园</td>\n",
       "      <td>128.56平米</td>\n",
       "      <td>3室2厅2卫</td>\n",
       "      <td>750万</td>\n",
       "      <td>南北</td>\n",
       "      <td>中层</td>\n",
       "      <td>中装修</td>\n",
       "    </tr>\n",
       "    <tr>\n",
       "      <th>3</th>\n",
       "      <td>3</td>\n",
       "      <td>46739元/平米</td>\n",
       "      <td>嘉盛豪园</td>\n",
       "      <td>92平米</td>\n",
       "      <td>3室2厅1卫</td>\n",
       "      <td>430万</td>\n",
       "      <td>南北</td>\n",
       "      <td>中层</td>\n",
       "      <td>精装修</td>\n",
       "    </tr>\n",
       "    <tr>\n",
       "      <th>4</th>\n",
       "      <td>4</td>\n",
       "      <td>43952元/平米</td>\n",
       "      <td>金帝花园</td>\n",
       "      <td>118.31平米</td>\n",
       "      <td>3室2厅2卫</td>\n",
       "      <td>520万</td>\n",
       "      <td>南北</td>\n",
       "      <td>高层</td>\n",
       "      <td>简装修</td>\n",
       "    </tr>\n",
       "    <tr>\n",
       "      <th>5</th>\n",
       "      <td>5</td>\n",
       "      <td>43245元/平米</td>\n",
       "      <td>摩登时代</td>\n",
       "      <td>48.56平米</td>\n",
       "      <td>1室1厅1卫</td>\n",
       "      <td>210万</td>\n",
       "      <td>东</td>\n",
       "      <td>中层</td>\n",
       "      <td>简装修</td>\n",
       "    </tr>\n",
       "    <tr>\n",
       "      <th>6</th>\n",
       "      <td>6</td>\n",
       "      <td>39667元/平米</td>\n",
       "      <td>金榜铁路家园</td>\n",
       "      <td>60平米</td>\n",
       "      <td>2室1厅1卫</td>\n",
       "      <td>238万</td>\n",
       "      <td>南北</td>\n",
       "      <td>高层</td>\n",
       "      <td>简装修</td>\n",
       "    </tr>\n",
       "  </tbody>\n",
       "</table>\n",
       "</div>"
      ],
      "text/plain": [
       "   index         单价     小区名称      建筑面积      户型   房屋总价  朝向  楼层    装修\n",
       "0      0  41117元/平米     仙岳山庄  104.58平米  2室2厅2卫   430万  南北  低层   简装修\n",
       "1      1  63489元/平米  禹洲华侨海景城  201.61平米  5室2厅2卫  1280万  东北  高层  豪华装修\n",
       "2      2  58339元/平米     汇丰家园  128.56平米  3室2厅2卫   750万  南北  中层   中装修\n",
       "3      3  46739元/平米     嘉盛豪园      92平米  3室2厅1卫   430万  南北  中层   精装修\n",
       "4      4  43952元/平米     金帝花园  118.31平米  3室2厅2卫   520万  南北  高层   简装修\n",
       "5      5  43245元/平米     摩登时代   48.56平米  1室1厅1卫   210万   东  中层   简装修\n",
       "6      6  39667元/平米   金榜铁路家园      60平米  2室1厅1卫   238万  南北  高层   简装修"
      ]
     },
     "execution_count": 76,
     "metadata": {},
     "output_type": "execute_result"
    }
   ],
   "source": [
    "data = pd.read_csv(r'house.csv') # 如果用pandas打不开数据，可以使用记事本打开把编码格式改成utf-8另存\n",
    "data.head(7)"
   ]
  },
  {
   "cell_type": "code",
   "execution_count": 38,
   "metadata": {},
   "outputs": [
    {
     "data": {
      "text/html": [
       "<div>\n",
       "<style scoped>\n",
       "    .dataframe tbody tr th:only-of-type {\n",
       "        vertical-align: middle;\n",
       "    }\n",
       "\n",
       "    .dataframe tbody tr th {\n",
       "        vertical-align: top;\n",
       "    }\n",
       "\n",
       "    .dataframe thead th {\n",
       "        text-align: right;\n",
       "    }\n",
       "</style>\n",
       "<table border=\"1\" class=\"dataframe\">\n",
       "  <thead>\n",
       "    <tr style=\"text-align: right;\">\n",
       "      <th></th>\n",
       "      <th>单价</th>\n",
       "      <th>小区名称</th>\n",
       "      <th>建筑面积</th>\n",
       "      <th>户型</th>\n",
       "      <th>房屋总价</th>\n",
       "      <th>朝向</th>\n",
       "      <th>楼层</th>\n",
       "      <th>装修</th>\n",
       "    </tr>\n",
       "  </thead>\n",
       "  <tbody>\n",
       "    <tr>\n",
       "      <th>0</th>\n",
       "      <td>41117元/平米</td>\n",
       "      <td>仙岳山庄</td>\n",
       "      <td>104.58平米</td>\n",
       "      <td>2室2厅2卫</td>\n",
       "      <td>430万</td>\n",
       "      <td>南北</td>\n",
       "      <td>低层</td>\n",
       "      <td>简装修</td>\n",
       "    </tr>\n",
       "    <tr>\n",
       "      <th>1</th>\n",
       "      <td>63489元/平米</td>\n",
       "      <td>禹洲华侨海景城</td>\n",
       "      <td>201.61平米</td>\n",
       "      <td>5室2厅2卫</td>\n",
       "      <td>1280万</td>\n",
       "      <td>东北</td>\n",
       "      <td>高层</td>\n",
       "      <td>豪华装修</td>\n",
       "    </tr>\n",
       "    <tr>\n",
       "      <th>2</th>\n",
       "      <td>58339元/平米</td>\n",
       "      <td>汇丰家园</td>\n",
       "      <td>128.56平米</td>\n",
       "      <td>3室2厅2卫</td>\n",
       "      <td>750万</td>\n",
       "      <td>南北</td>\n",
       "      <td>中层</td>\n",
       "      <td>中装修</td>\n",
       "    </tr>\n",
       "    <tr>\n",
       "      <th>3</th>\n",
       "      <td>46739元/平米</td>\n",
       "      <td>嘉盛豪园</td>\n",
       "      <td>92平米</td>\n",
       "      <td>3室2厅1卫</td>\n",
       "      <td>430万</td>\n",
       "      <td>南北</td>\n",
       "      <td>中层</td>\n",
       "      <td>精装修</td>\n",
       "    </tr>\n",
       "    <tr>\n",
       "      <th>4</th>\n",
       "      <td>43952元/平米</td>\n",
       "      <td>金帝花园</td>\n",
       "      <td>118.31平米</td>\n",
       "      <td>3室2厅2卫</td>\n",
       "      <td>520万</td>\n",
       "      <td>南北</td>\n",
       "      <td>高层</td>\n",
       "      <td>简装修</td>\n",
       "    </tr>\n",
       "  </tbody>\n",
       "</table>\n",
       "</div>"
      ],
      "text/plain": [
       "          单价     小区名称      建筑面积      户型   房屋总价  朝向  楼层    装修\n",
       "0  41117元/平米     仙岳山庄  104.58平米  2室2厅2卫   430万  南北  低层   简装修\n",
       "1  63489元/平米  禹洲华侨海景城  201.61平米  5室2厅2卫  1280万  东北  高层  豪华装修\n",
       "2  58339元/平米     汇丰家园  128.56平米  3室2厅2卫   750万  南北  中层   中装修\n",
       "3  46739元/平米     嘉盛豪园      92平米  3室2厅1卫   430万  南北  中层   精装修\n",
       "4  43952元/平米     金帝花园  118.31平米  3室2厅2卫   520万  南北  高层   简装修"
      ]
     },
     "execution_count": 38,
     "metadata": {},
     "output_type": "execute_result"
    }
   ],
   "source": [
    "data.drop('index',axis=1,inplace=True) # 删除index列\n",
    "data.head()"
   ]
  },
  {
   "cell_type": "code",
   "execution_count": 39,
   "metadata": {},
   "outputs": [],
   "source": [
    "# Series的extract支持正则匹配抽取，返回的值是字符串\n",
    "data[['室','厅','卫']] = data['户型'].str.extract(r'(\\d+)室(\\d+)厅(\\d+)卫')"
   ]
  },
  {
   "cell_type": "code",
   "execution_count": 40,
   "metadata": {},
   "outputs": [
    {
     "data": {
      "text/html": [
       "<div>\n",
       "<style scoped>\n",
       "    .dataframe tbody tr th:only-of-type {\n",
       "        vertical-align: middle;\n",
       "    }\n",
       "\n",
       "    .dataframe tbody tr th {\n",
       "        vertical-align: top;\n",
       "    }\n",
       "\n",
       "    .dataframe thead th {\n",
       "        text-align: right;\n",
       "    }\n",
       "</style>\n",
       "<table border=\"1\" class=\"dataframe\">\n",
       "  <thead>\n",
       "    <tr style=\"text-align: right;\">\n",
       "      <th></th>\n",
       "      <th>单价</th>\n",
       "      <th>小区名称</th>\n",
       "      <th>建筑面积</th>\n",
       "      <th>房屋总价</th>\n",
       "      <th>朝向</th>\n",
       "      <th>楼层</th>\n",
       "      <th>装修</th>\n",
       "      <th>室</th>\n",
       "      <th>厅</th>\n",
       "      <th>卫</th>\n",
       "    </tr>\n",
       "  </thead>\n",
       "  <tbody>\n",
       "    <tr>\n",
       "      <th>0</th>\n",
       "      <td>41117元/平米</td>\n",
       "      <td>仙岳山庄</td>\n",
       "      <td>104.58平米</td>\n",
       "      <td>430万</td>\n",
       "      <td>南北</td>\n",
       "      <td>低层</td>\n",
       "      <td>简装修</td>\n",
       "      <td>2.0</td>\n",
       "      <td>2.0</td>\n",
       "      <td>2.0</td>\n",
       "    </tr>\n",
       "    <tr>\n",
       "      <th>1</th>\n",
       "      <td>63489元/平米</td>\n",
       "      <td>禹洲华侨海景城</td>\n",
       "      <td>201.61平米</td>\n",
       "      <td>1280万</td>\n",
       "      <td>东北</td>\n",
       "      <td>高层</td>\n",
       "      <td>豪华装修</td>\n",
       "      <td>5.0</td>\n",
       "      <td>2.0</td>\n",
       "      <td>2.0</td>\n",
       "    </tr>\n",
       "    <tr>\n",
       "      <th>2</th>\n",
       "      <td>58339元/平米</td>\n",
       "      <td>汇丰家园</td>\n",
       "      <td>128.56平米</td>\n",
       "      <td>750万</td>\n",
       "      <td>南北</td>\n",
       "      <td>中层</td>\n",
       "      <td>中装修</td>\n",
       "      <td>3.0</td>\n",
       "      <td>2.0</td>\n",
       "      <td>2.0</td>\n",
       "    </tr>\n",
       "  </tbody>\n",
       "</table>\n",
       "</div>"
      ],
      "text/plain": [
       "          单价     小区名称      建筑面积   房屋总价  朝向  楼层    装修    室    厅    卫\n",
       "0  41117元/平米     仙岳山庄  104.58平米   430万  南北  低层   简装修  2.0  2.0  2.0\n",
       "1  63489元/平米  禹洲华侨海景城  201.61平米  1280万  东北  高层  豪华装修  5.0  2.0  2.0\n",
       "2  58339元/平米     汇丰家园  128.56平米   750万  南北  中层   中装修  3.0  2.0  2.0"
      ]
     },
     "execution_count": 40,
     "metadata": {},
     "output_type": "execute_result"
    }
   ],
   "source": [
    "# 把字符串格式转化为float，并删除户型\n",
    "data['室'] = data['室'].astype(float)\n",
    "data['厅'] = data['厅'].astype(float)\n",
    "data['卫'] = data['卫'].astype(float)\n",
    "del data['户型']\n",
    "data.head(3)"
   ]
  },
  {
   "cell_type": "code",
   "execution_count": 41,
   "metadata": {},
   "outputs": [
    {
     "data": {
      "text/html": [
       "<div>\n",
       "<style scoped>\n",
       "    .dataframe tbody tr th:only-of-type {\n",
       "        vertical-align: middle;\n",
       "    }\n",
       "\n",
       "    .dataframe tbody tr th {\n",
       "        vertical-align: top;\n",
       "    }\n",
       "\n",
       "    .dataframe thead th {\n",
       "        text-align: right;\n",
       "    }\n",
       "</style>\n",
       "<table border=\"1\" class=\"dataframe\">\n",
       "  <thead>\n",
       "    <tr style=\"text-align: right;\">\n",
       "      <th></th>\n",
       "      <th>单价</th>\n",
       "      <th>小区名称</th>\n",
       "      <th>建筑面积</th>\n",
       "      <th>房屋总价</th>\n",
       "      <th>朝向</th>\n",
       "      <th>楼层</th>\n",
       "      <th>装修</th>\n",
       "      <th>室</th>\n",
       "      <th>厅</th>\n",
       "      <th>卫</th>\n",
       "    </tr>\n",
       "  </thead>\n",
       "  <tbody>\n",
       "    <tr>\n",
       "      <th>0</th>\n",
       "      <td>41117.0</td>\n",
       "      <td>仙岳山庄</td>\n",
       "      <td>104.58</td>\n",
       "      <td>430.0</td>\n",
       "      <td>南北</td>\n",
       "      <td>低层</td>\n",
       "      <td>简装修</td>\n",
       "      <td>2.0</td>\n",
       "      <td>2.0</td>\n",
       "      <td>2.0</td>\n",
       "    </tr>\n",
       "    <tr>\n",
       "      <th>1</th>\n",
       "      <td>63489.0</td>\n",
       "      <td>禹洲华侨海景城</td>\n",
       "      <td>201.61</td>\n",
       "      <td>1280.0</td>\n",
       "      <td>东北</td>\n",
       "      <td>高层</td>\n",
       "      <td>豪华装修</td>\n",
       "      <td>5.0</td>\n",
       "      <td>2.0</td>\n",
       "      <td>2.0</td>\n",
       "    </tr>\n",
       "    <tr>\n",
       "      <th>2</th>\n",
       "      <td>58339.0</td>\n",
       "      <td>汇丰家园</td>\n",
       "      <td>128.56</td>\n",
       "      <td>750.0</td>\n",
       "      <td>南北</td>\n",
       "      <td>中层</td>\n",
       "      <td>中装修</td>\n",
       "      <td>3.0</td>\n",
       "      <td>2.0</td>\n",
       "      <td>2.0</td>\n",
       "    </tr>\n",
       "  </tbody>\n",
       "</table>\n",
       "</div>"
      ],
      "text/plain": [
       "        单价     小区名称    建筑面积    房屋总价  朝向  楼层    装修    室    厅    卫\n",
       "0  41117.0     仙岳山庄  104.58   430.0  南北  低层   简装修  2.0  2.0  2.0\n",
       "1  63489.0  禹洲华侨海景城  201.61  1280.0  东北  高层  豪华装修  5.0  2.0  2.0\n",
       "2  58339.0     汇丰家园  128.56   750.0  南北  中层   中装修  3.0  2.0  2.0"
      ]
     },
     "execution_count": 41,
     "metadata": {},
     "output_type": "execute_result"
    }
   ],
   "source": [
    "# 将建筑面积后的平方米去除，并将数据类型改成浮点型\n",
    "data['建筑面积'] = data['建筑面积'].map(lambda e:e.replace('平米',''))# Series中的map\n",
    "data['建筑面积'] = data['建筑面积'].astype(float)\n",
    "# 将单价后的元/平米去除，并将数据类型改成浮点型\n",
    "data['单价'] = data['单价'].map(lambda e:e.replace(r'元/平米',''))\n",
    "data['单价'] = data['单价'].astype(float)\n",
    "# 将房屋总价后的万去除，并将数据类型改成浮点型\n",
    "data['房屋总价'] = data['房屋总价'].map(lambda e:e.replace('万',''))\n",
    "data['房屋总价'] = data['房屋总价'].astype(float)\n",
    "data.head(3)"
   ]
  },
  {
   "cell_type": "code",
   "execution_count": 42,
   "metadata": {},
   "outputs": [
    {
     "data": {
      "text/html": [
       "<div>\n",
       "<style scoped>\n",
       "    .dataframe tbody tr th:only-of-type {\n",
       "        vertical-align: middle;\n",
       "    }\n",
       "\n",
       "    .dataframe tbody tr th {\n",
       "        vertical-align: top;\n",
       "    }\n",
       "\n",
       "    .dataframe thead th {\n",
       "        text-align: right;\n",
       "    }\n",
       "</style>\n",
       "<table border=\"1\" class=\"dataframe\">\n",
       "  <thead>\n",
       "    <tr style=\"text-align: right;\">\n",
       "      <th></th>\n",
       "      <th>东</th>\n",
       "      <th>东北</th>\n",
       "      <th>东南</th>\n",
       "      <th>东西</th>\n",
       "      <th>北</th>\n",
       "      <th>南</th>\n",
       "      <th>南北</th>\n",
       "      <th>暂无</th>\n",
       "      <th>西</th>\n",
       "      <th>西北</th>\n",
       "      <th>西南</th>\n",
       "    </tr>\n",
       "  </thead>\n",
       "  <tbody>\n",
       "    <tr>\n",
       "      <th>0</th>\n",
       "      <td>0</td>\n",
       "      <td>0</td>\n",
       "      <td>0</td>\n",
       "      <td>0</td>\n",
       "      <td>0</td>\n",
       "      <td>0</td>\n",
       "      <td>1</td>\n",
       "      <td>0</td>\n",
       "      <td>0</td>\n",
       "      <td>0</td>\n",
       "      <td>0</td>\n",
       "    </tr>\n",
       "    <tr>\n",
       "      <th>1</th>\n",
       "      <td>0</td>\n",
       "      <td>1</td>\n",
       "      <td>0</td>\n",
       "      <td>0</td>\n",
       "      <td>0</td>\n",
       "      <td>0</td>\n",
       "      <td>0</td>\n",
       "      <td>0</td>\n",
       "      <td>0</td>\n",
       "      <td>0</td>\n",
       "      <td>0</td>\n",
       "    </tr>\n",
       "    <tr>\n",
       "      <th>2</th>\n",
       "      <td>0</td>\n",
       "      <td>0</td>\n",
       "      <td>0</td>\n",
       "      <td>0</td>\n",
       "      <td>0</td>\n",
       "      <td>0</td>\n",
       "      <td>1</td>\n",
       "      <td>0</td>\n",
       "      <td>0</td>\n",
       "      <td>0</td>\n",
       "      <td>0</td>\n",
       "    </tr>\n",
       "  </tbody>\n",
       "</table>\n",
       "</div>"
      ],
      "text/plain": [
       "   东  东北  东南  东西  北  南  南北  暂无  西  西北  西南\n",
       "0  0   0   0   0  0  0   1   0  0   0   0\n",
       "1  0   1   0   0  0  0   0   0  0   0   0\n",
       "2  0   0   0   0  0  0   1   0  0   0   0"
      ]
     },
     "execution_count": 42,
     "metadata": {},
     "output_type": "execute_result"
    }
   ],
   "source": [
    "# 使用pd.get_dummies() 量化数据\n",
    "data_chaoxiang = pd.get_dummies(data['朝向'])\n",
    "data_chaoxiang.head(3)"
   ]
  },
  {
   "cell_type": "code",
   "execution_count": 43,
   "metadata": {},
   "outputs": [
    {
     "data": {
      "text/html": [
       "<div>\n",
       "<style scoped>\n",
       "    .dataframe tbody tr th:only-of-type {\n",
       "        vertical-align: middle;\n",
       "    }\n",
       "\n",
       "    .dataframe tbody tr th {\n",
       "        vertical-align: top;\n",
       "    }\n",
       "\n",
       "    .dataframe thead th {\n",
       "        text-align: right;\n",
       "    }\n",
       "</style>\n",
       "<table border=\"1\" class=\"dataframe\">\n",
       "  <thead>\n",
       "    <tr style=\"text-align: right;\">\n",
       "      <th></th>\n",
       "      <th>中层</th>\n",
       "      <th>低层</th>\n",
       "      <th>高层</th>\n",
       "    </tr>\n",
       "  </thead>\n",
       "  <tbody>\n",
       "    <tr>\n",
       "      <th>0</th>\n",
       "      <td>0</td>\n",
       "      <td>1</td>\n",
       "      <td>0</td>\n",
       "    </tr>\n",
       "    <tr>\n",
       "      <th>1</th>\n",
       "      <td>0</td>\n",
       "      <td>0</td>\n",
       "      <td>1</td>\n",
       "    </tr>\n",
       "    <tr>\n",
       "      <th>2</th>\n",
       "      <td>1</td>\n",
       "      <td>0</td>\n",
       "      <td>0</td>\n",
       "    </tr>\n",
       "  </tbody>\n",
       "</table>\n",
       "</div>"
      ],
      "text/plain": [
       "   中层  低层  高层\n",
       "0   0   1   0\n",
       "1   0   0   1\n",
       "2   1   0   0"
      ]
     },
     "execution_count": 43,
     "metadata": {},
     "output_type": "execute_result"
    }
   ],
   "source": [
    "data_louchen = pd.get_dummies(data['楼层'])\n",
    "data_louchen.head(3)"
   ]
  },
  {
   "cell_type": "code",
   "execution_count": 44,
   "metadata": {},
   "outputs": [
    {
     "data": {
      "text/html": [
       "<div>\n",
       "<style scoped>\n",
       "    .dataframe tbody tr th:only-of-type {\n",
       "        vertical-align: middle;\n",
       "    }\n",
       "\n",
       "    .dataframe tbody tr th {\n",
       "        vertical-align: top;\n",
       "    }\n",
       "\n",
       "    .dataframe thead th {\n",
       "        text-align: right;\n",
       "    }\n",
       "</style>\n",
       "<table border=\"1\" class=\"dataframe\">\n",
       "  <thead>\n",
       "    <tr style=\"text-align: right;\">\n",
       "      <th></th>\n",
       "      <th>中装修</th>\n",
       "      <th>暂无</th>\n",
       "      <th>毛坯</th>\n",
       "      <th>简装修</th>\n",
       "      <th>精装修</th>\n",
       "      <th>豪华装修</th>\n",
       "    </tr>\n",
       "  </thead>\n",
       "  <tbody>\n",
       "    <tr>\n",
       "      <th>0</th>\n",
       "      <td>0</td>\n",
       "      <td>0</td>\n",
       "      <td>0</td>\n",
       "      <td>1</td>\n",
       "      <td>0</td>\n",
       "      <td>0</td>\n",
       "    </tr>\n",
       "    <tr>\n",
       "      <th>1</th>\n",
       "      <td>0</td>\n",
       "      <td>0</td>\n",
       "      <td>0</td>\n",
       "      <td>0</td>\n",
       "      <td>0</td>\n",
       "      <td>1</td>\n",
       "    </tr>\n",
       "    <tr>\n",
       "      <th>2</th>\n",
       "      <td>1</td>\n",
       "      <td>0</td>\n",
       "      <td>0</td>\n",
       "      <td>0</td>\n",
       "      <td>0</td>\n",
       "      <td>0</td>\n",
       "    </tr>\n",
       "  </tbody>\n",
       "</table>\n",
       "</div>"
      ],
      "text/plain": [
       "   中装修  暂无  毛坯  简装修  精装修  豪华装修\n",
       "0    0   0   0    1    0     0\n",
       "1    0   0   0    0    0     1\n",
       "2    1   0   0    0    0     0"
      ]
     },
     "execution_count": 44,
     "metadata": {},
     "output_type": "execute_result"
    }
   ],
   "source": [
    "data_zhuangxiu = pd.get_dummies(data['装修'])\n",
    "data_zhuangxiu.head(3)"
   ]
  },
  {
   "cell_type": "code",
   "execution_count": 45,
   "metadata": {},
   "outputs": [
    {
     "data": {
      "text/plain": [
       "Index(['单价', '小区名称', '建筑面积', '房屋总价', '朝向', '楼层', '装修', '室', '厅', '卫', '东',\n",
       "       '东北', '东南', '东西', '北', '南', '南北', '暂无', '西', '西北', '西南', '中层', '低层',\n",
       "       '高层', '中装修', '暂无', '毛坯', '简装修', '精装修', '豪华装修'],\n",
       "      dtype='object')"
      ]
     },
     "execution_count": 45,
     "metadata": {},
     "output_type": "execute_result"
    }
   ],
   "source": [
    "# 使用pd.concat矩阵拼接，axis=1：水平拼接\n",
    "data = pd.concat([data,data_chaoxiang,data_louchen,data_zhuangxiu],axis=1) \n",
    "# 拼接后的列名\n",
    "data.columns"
   ]
  },
  {
   "cell_type": "code",
   "execution_count": 46,
   "metadata": {},
   "outputs": [
    {
     "data": {
      "text/plain": [
       "Index(['单价', '建筑面积', '房屋总价', '室', '厅', '卫', '东', '东北', '东南', '北', '南', '西',\n",
       "       '西北', '西南', '中层', '低层', '高层', '简装修', '精装修', '豪华装修'],\n",
       "      dtype='object')"
      ]
     },
     "execution_count": 46,
     "metadata": {},
     "output_type": "execute_result"
    }
   ],
   "source": [
    "# 特征筛选，删除不需要的列\n",
    "del data['小区名称']\n",
    "del data['朝向']\n",
    "del data['楼层']\n",
    "del data['装修']\n",
    "del data['东西']\n",
    "del data['南北']\n",
    "del data['暂无'] # 两列都删除\n",
    "del data['毛坯'] # 多重共线性问题（线性回归）\n",
    "del data['中装修']\n",
    "data.columns"
   ]
  },
  {
   "cell_type": "code",
   "execution_count": 47,
   "metadata": {},
   "outputs": [
    {
     "name": "stdout",
     "output_type": "stream",
     "text": [
      "<class 'pandas.core.frame.DataFrame'>\n",
      "RangeIndex: 5830 entries, 0 to 5829\n",
      "Data columns (total 20 columns):\n",
      "单价      5830 non-null float64\n",
      "建筑面积    5830 non-null float64\n",
      "房屋总价    5830 non-null float64\n",
      "室       5748 non-null float64\n",
      "厅       5748 non-null float64\n",
      "卫       5748 non-null float64\n",
      "东       5830 non-null uint8\n",
      "东北      5830 non-null uint8\n",
      "东南      5830 non-null uint8\n",
      "北       5830 non-null uint8\n",
      "南       5830 non-null uint8\n",
      "西       5830 non-null uint8\n",
      "西北      5830 non-null uint8\n",
      "西南      5830 non-null uint8\n",
      "中层      5830 non-null uint8\n",
      "低层      5830 non-null uint8\n",
      "高层      5830 non-null uint8\n",
      "简装修     5830 non-null uint8\n",
      "精装修     5830 non-null uint8\n",
      "豪华装修    5830 non-null uint8\n",
      "dtypes: float64(6), uint8(14)\n",
      "memory usage: 353.1 KB\n"
     ]
    }
   ],
   "source": [
    "data.info() # 发现 室厅卫中 有缺失值"
   ]
  },
  {
   "cell_type": "code",
   "execution_count": 48,
   "metadata": {},
   "outputs": [
    {
     "name": "stdout",
     "output_type": "stream",
     "text": [
      "<class 'pandas.core.frame.DataFrame'>\n",
      "Int64Index: 5748 entries, 0 to 5829\n",
      "Data columns (total 20 columns):\n",
      "单价      5748 non-null float64\n",
      "建筑面积    5748 non-null float64\n",
      "房屋总价    5748 non-null float64\n",
      "室       5748 non-null float64\n",
      "厅       5748 non-null float64\n",
      "卫       5748 non-null float64\n",
      "东       5748 non-null uint8\n",
      "东北      5748 non-null uint8\n",
      "东南      5748 non-null uint8\n",
      "北       5748 non-null uint8\n",
      "南       5748 non-null uint8\n",
      "西       5748 non-null uint8\n",
      "西北      5748 non-null uint8\n",
      "西南      5748 non-null uint8\n",
      "中层      5748 non-null uint8\n",
      "低层      5748 non-null uint8\n",
      "高层      5748 non-null uint8\n",
      "简装修     5748 non-null uint8\n",
      "精装修     5748 non-null uint8\n",
      "豪华装修    5748 non-null uint8\n",
      "dtypes: float64(6), uint8(14)\n",
      "memory usage: 392.9 KB\n"
     ]
    }
   ],
   "source": [
    "# 删除缺失值\n",
    "data.dropna(inplace=True)\n",
    "data.info()                       # 到这里数据预处理完毕"
   ]
  },
  {
   "cell_type": "code",
   "execution_count": null,
   "metadata": {},
   "outputs": [],
   "source": []
  },
  {
   "cell_type": "markdown",
   "metadata": {},
   "source": [
    "# 3、数据可视化"
   ]
  },
  {
   "cell_type": "code",
   "execution_count": 49,
   "metadata": {},
   "outputs": [
    {
     "data": {
      "text/html": [
       "<div>\n",
       "<style scoped>\n",
       "    .dataframe tbody tr th:only-of-type {\n",
       "        vertical-align: middle;\n",
       "    }\n",
       "\n",
       "    .dataframe tbody tr th {\n",
       "        vertical-align: top;\n",
       "    }\n",
       "\n",
       "    .dataframe thead th {\n",
       "        text-align: right;\n",
       "    }\n",
       "</style>\n",
       "<table border=\"1\" class=\"dataframe\">\n",
       "  <thead>\n",
       "    <tr style=\"text-align: right;\">\n",
       "      <th></th>\n",
       "      <th>单价</th>\n",
       "      <th>建筑面积</th>\n",
       "      <th>房屋总价</th>\n",
       "      <th>室</th>\n",
       "      <th>厅</th>\n",
       "      <th>卫</th>\n",
       "      <th>东</th>\n",
       "      <th>东北</th>\n",
       "      <th>东南</th>\n",
       "      <th>北</th>\n",
       "      <th>南</th>\n",
       "      <th>西</th>\n",
       "      <th>西北</th>\n",
       "      <th>西南</th>\n",
       "      <th>中层</th>\n",
       "      <th>低层</th>\n",
       "      <th>高层</th>\n",
       "      <th>简装修</th>\n",
       "      <th>精装修</th>\n",
       "      <th>豪华装修</th>\n",
       "    </tr>\n",
       "  </thead>\n",
       "  <tbody>\n",
       "    <tr>\n",
       "      <th>0</th>\n",
       "      <td>41117.0</td>\n",
       "      <td>104.58</td>\n",
       "      <td>430.0</td>\n",
       "      <td>2.0</td>\n",
       "      <td>2.0</td>\n",
       "      <td>2.0</td>\n",
       "      <td>0</td>\n",
       "      <td>0</td>\n",
       "      <td>0</td>\n",
       "      <td>0</td>\n",
       "      <td>0</td>\n",
       "      <td>0</td>\n",
       "      <td>0</td>\n",
       "      <td>0</td>\n",
       "      <td>0</td>\n",
       "      <td>1</td>\n",
       "      <td>0</td>\n",
       "      <td>1</td>\n",
       "      <td>0</td>\n",
       "      <td>0</td>\n",
       "    </tr>\n",
       "    <tr>\n",
       "      <th>1</th>\n",
       "      <td>63489.0</td>\n",
       "      <td>201.61</td>\n",
       "      <td>1280.0</td>\n",
       "      <td>5.0</td>\n",
       "      <td>2.0</td>\n",
       "      <td>2.0</td>\n",
       "      <td>0</td>\n",
       "      <td>1</td>\n",
       "      <td>0</td>\n",
       "      <td>0</td>\n",
       "      <td>0</td>\n",
       "      <td>0</td>\n",
       "      <td>0</td>\n",
       "      <td>0</td>\n",
       "      <td>0</td>\n",
       "      <td>0</td>\n",
       "      <td>1</td>\n",
       "      <td>0</td>\n",
       "      <td>0</td>\n",
       "      <td>1</td>\n",
       "    </tr>\n",
       "    <tr>\n",
       "      <th>2</th>\n",
       "      <td>58339.0</td>\n",
       "      <td>128.56</td>\n",
       "      <td>750.0</td>\n",
       "      <td>3.0</td>\n",
       "      <td>2.0</td>\n",
       "      <td>2.0</td>\n",
       "      <td>0</td>\n",
       "      <td>0</td>\n",
       "      <td>0</td>\n",
       "      <td>0</td>\n",
       "      <td>0</td>\n",
       "      <td>0</td>\n",
       "      <td>0</td>\n",
       "      <td>0</td>\n",
       "      <td>1</td>\n",
       "      <td>0</td>\n",
       "      <td>0</td>\n",
       "      <td>0</td>\n",
       "      <td>0</td>\n",
       "      <td>0</td>\n",
       "    </tr>\n",
       "  </tbody>\n",
       "</table>\n",
       "</div>"
      ],
      "text/plain": [
       "        单价    建筑面积    房屋总价    室    厅    卫  东  东北  东南  北  南  西  西北  西南  中层  低层  \\\n",
       "0  41117.0  104.58   430.0  2.0  2.0  2.0  0   0   0  0  0  0   0   0   0   1   \n",
       "1  63489.0  201.61  1280.0  5.0  2.0  2.0  0   1   0  0  0  0   0   0   0   0   \n",
       "2  58339.0  128.56   750.0  3.0  2.0  2.0  0   0   0  0  0  0   0   0   1   0   \n",
       "\n",
       "   高层  简装修  精装修  豪华装修  \n",
       "0   0    1    0     0  \n",
       "1   1    0    0     1  \n",
       "2   0    0    0     0  "
      ]
     },
     "execution_count": 49,
     "metadata": {},
     "output_type": "execute_result"
    }
   ],
   "source": [
    "data.head(3)"
   ]
  },
  {
   "cell_type": "code",
   "execution_count": 50,
   "metadata": {},
   "outputs": [
    {
     "data": {
      "image/png": "[encoded data removed]",
      "text/plain": [
       "<Figure size 432x288 with 1 Axes>"
      ]
     },
     "metadata": {
      "needs_background": "light"
     },
     "output_type": "display_data"
    }
   ],
   "source": [
    "import matplotlib\n",
    "import matplotlib.pyplot as plt\n",
    "import numpy as np\n",
    "from pylab import mpl\n",
    "import pylab\n",
    "from IPython.core.pylabtools import figsize\n",
    "mpl.rcParams['font.sans-serif'] = ['SimHei'] \n",
    "pylab.rcParams['figure.figsize'] = (15.0, 10.0)    #显示图片的大小\n",
    "%matplotlib inline\n",
    "area = data['建筑面积']\n",
    "price = data['房屋总价']\n",
    "plt.scatter(area,price,marker='D')\n",
    "plt.xlabel('建筑面积') \n",
    "plt.ylabel('房屋总价') \n",
    "plt.title('面积与房屋价格的关系')\n",
    "plt.show() # 有离群点数据，对线性分析不利，需要过滤"
   ]
  },
  {
   "cell_type": "code",
   "execution_count": 51,
   "metadata": {},
   "outputs": [
    {
     "data": {
      "image/png": "[encoded data removed]",
      "text/plain": [
       "<Figure size 432x288 with 1 Axes>"
      ]
     },
     "metadata": {
      "needs_background": "light"
     },
     "output_type": "display_data"
    }
   ],
   "source": [
    "df = data[data['建筑面积'] <=300] # 正常住宅面积小于等于300平米\n",
    "area = df['建筑面积']\n",
    "price = df['房屋总价']\n",
    "#print(area.count()) #过滤后的数据量\n",
    "plt.scatter(area,price,c='red',marker='D')\n",
    "plt.xlabel('建筑面积') \n",
    "plt.ylabel('房屋总价') \n",
    "plt.title('面积与房屋价格的关系')\n",
    "plt.show()"
   ]
  },
  {
   "cell_type": "code",
   "execution_count": 54,
   "metadata": {},
   "outputs": [
    {
     "data": {
      "image/png": "[encoded data removed]",
      "text/plain": [
       "<Figure size 432x288 with 1 Axes>"
      ]
     },
     "metadata": {
      "needs_background": "light"
     },
     "output_type": "display_data"
    }
   ],
   "source": [
    "area = data['建筑面积']\n",
    "price = data['单价']\n",
    "plt.scatter(area,price)\n",
    "plt.xlabel('建筑面积') \n",
    "plt.ylabel('房屋单价') \n",
    "plt.title('面积与房屋单价的关系')\n",
    "plt.show() "
   ]
  },
  {
   "cell_type": "code",
   "execution_count": 55,
   "metadata": {},
   "outputs": [
    {
     "data": {
      "text/html": [
       "<div>\n",
       "<style scoped>\n",
       "    .dataframe tbody tr th:only-of-type {\n",
       "        vertical-align: middle;\n",
       "    }\n",
       "\n",
       "    .dataframe tbody tr th {\n",
       "        vertical-align: top;\n",
       "    }\n",
       "\n",
       "    .dataframe thead th {\n",
       "        text-align: right;\n",
       "    }\n",
       "</style>\n",
       "<table border=\"1\" class=\"dataframe\">\n",
       "  <thead>\n",
       "    <tr style=\"text-align: right;\">\n",
       "      <th></th>\n",
       "      <th>单价</th>\n",
       "      <th>建筑面积</th>\n",
       "      <th>房屋总价</th>\n",
       "      <th>室</th>\n",
       "      <th>厅</th>\n",
       "      <th>卫</th>\n",
       "      <th>东</th>\n",
       "      <th>东北</th>\n",
       "      <th>东南</th>\n",
       "      <th>北</th>\n",
       "      <th>南</th>\n",
       "      <th>西</th>\n",
       "      <th>西北</th>\n",
       "      <th>西南</th>\n",
       "      <th>中层</th>\n",
       "      <th>低层</th>\n",
       "      <th>高层</th>\n",
       "      <th>简装修</th>\n",
       "      <th>精装修</th>\n",
       "      <th>豪华装修</th>\n",
       "    </tr>\n",
       "  </thead>\n",
       "  <tbody>\n",
       "    <tr>\n",
       "      <th>0</th>\n",
       "      <td>41117.0</td>\n",
       "      <td>104.58</td>\n",
       "      <td>430.0</td>\n",
       "      <td>2.0</td>\n",
       "      <td>2.0</td>\n",
       "      <td>2.0</td>\n",
       "      <td>0</td>\n",
       "      <td>0</td>\n",
       "      <td>0</td>\n",
       "      <td>0</td>\n",
       "      <td>0</td>\n",
       "      <td>0</td>\n",
       "      <td>0</td>\n",
       "      <td>0</td>\n",
       "      <td>0</td>\n",
       "      <td>1</td>\n",
       "      <td>0</td>\n",
       "      <td>1</td>\n",
       "      <td>0</td>\n",
       "      <td>0</td>\n",
       "    </tr>\n",
       "  </tbody>\n",
       "</table>\n",
       "</div>"
      ],
      "text/plain": [
       "        单价    建筑面积   房屋总价    室    厅    卫  东  东北  东南  北  南  西  西北  西南  中层  低层  \\\n",
       "0  41117.0  104.58  430.0  2.0  2.0  2.0  0   0   0  0  0  0   0   0   0   1   \n",
       "\n",
       "   高层  简装修  精装修  豪华装修  \n",
       "0   0    1    0     0  "
      ]
     },
     "execution_count": 55,
     "metadata": {},
     "output_type": "execute_result"
    }
   ],
   "source": [
    "data.head(1)"
   ]
  },
  {
   "cell_type": "code",
   "execution_count": 77,
   "metadata": {},
   "outputs": [
    {
     "data": {
      "image/png": "[encoded data removed]",
      "text/plain": [
       "<Figure size 432x288 with 1 Axes>"
      ]
     },
     "metadata": {
      "needs_background": "light"
     },
     "output_type": "display_data"
    }
   ],
   "source": [
    "bins = [0, 50, 100, 150, 200, 250, 300, 350,400,450,500]\n",
    "group_mianji = ['小于50', '50-100', '100-150', '150-200','200-250','250-300','300-350','350-400','400-450','450-500']\n",
    "df['group_mianji'] = pd.cut(df['建筑面积'], bins, labels=group_mianji)\n",
    "#按房源面积分组对房源数量进行汇总\n",
    "group_mianji=df.groupby('group_mianji')['group_mianji'].agg('count')\n",
    "a = np.array(range(1,11))\n",
    "plt.barh(list(range(1,11)),group_mianji,color ='#052B6C',alpha = 0.8,edgecolor='white')\n",
    "plt.xlabel(\"数量\")\n",
    "plt.ylabel(\"面积分组\")\n",
    "plt.title('房源面积分布')\n",
    "plt.legend(['数量'], loc='upper right')\n",
    "plt.yticks(a,('小于50', '50-100', '100-150', '150-200','200-250','250-300','300-350','350-400','400-450','450-500'))\n",
    "plt.show()"
   ]
  },
  {
   "cell_type": "code",
   "execution_count": null,
   "metadata": {},
   "outputs": [],
   "source": []
  },
  {
   "cell_type": "code",
   "execution_count": 70,
   "metadata": {},
   "outputs": [
    {
     "data": {
      "text/plain": [
       "Text(0.5, 1.0, '房屋总价分布直方图')"
      ]
     },
     "execution_count": 70,
     "metadata": {},
     "output_type": "execute_result"
    },
    {
     "data": {
      "image/png": "[encoded data removed]",
      "text/plain": [
       "<Figure size 1440x576 with 1 Axes>"
      ]
     },
     "metadata": {
      "needs_background": "light"
     },
     "output_type": "display_data"
    }
   ],
   "source": [
    "import seaborn as sns\n",
    "plt.figure(figsize=[10,4],dpi=144)\n",
    "sns.distplot(data[\"房屋总价\"],bins=range(0,4000,100),rug=True)\n",
    "plt.xticks(range(0,4000,300))\n",
    "plt.grid(ls=\":\")\n",
    "plt.xlim(0,4000)\n",
    "plt.title(\"房屋总价分布直方图\")"
   ]
  },
  {
   "cell_type": "code",
   "execution_count": null,
   "metadata": {},
   "outputs": [],
   "source": []
  },
  {
   "cell_type": "code",
   "execution_count": null,
   "metadata": {},
   "outputs": [],
   "source": []
  },
  {
   "cell_type": "code",
   "execution_count": null,
   "metadata": {},
   "outputs": [],
   "source": []
  },
  {
   "cell_type": "code",
   "execution_count": null,
   "metadata": {},
   "outputs": [],
   "source": []
  },
  {
   "cell_type": "code",
   "execution_count": null,
   "metadata": {},
   "outputs": [],
   "source": []
  },
  {
   "cell_type": "code",
   "execution_count": null,
   "metadata": {},
   "outputs": [],
   "source": []
  },
  {
   "cell_type": "code",
   "execution_count": null,
   "metadata": {},
   "outputs": [],
   "source": []
  },
  {
   "cell_type": "code",
   "execution_count": null,
   "metadata": {},
   "outputs": [],
   "source": []
  },
  {
   "cell_type": "code",
   "execution_count": null,
   "metadata": {},
   "outputs": [],
   "source": []
  },
  {
   "cell_type": "code",
   "execution_count": null,
   "metadata": {},
   "outputs": [],
   "source": []
  },
  {
   "cell_type": "code",
   "execution_count": null,
   "metadata": {},
   "outputs": [],
   "source": []
  },
  {
   "cell_type": "code",
   "execution_count": null,
   "metadata": {},
   "outputs": [],
   "source": []
  },
  {
   "cell_type": "code",
   "execution_count": null,
   "metadata": {},
   "outputs": [],
   "source": []
  },
  {
   "cell_type": "code",
   "execution_count": null,
   "metadata": {},
   "outputs": [],
   "source": []
  },
  {
   "cell_type": "code",
   "execution_count": null,
   "metadata": {},
   "outputs": [],
   "source": []
  },
  {
   "cell_type": "code",
   "execution_count": null,
   "metadata": {},
   "outputs": [],
   "source": []
  },
  {
   "cell_type": "code",
   "execution_count": null,
   "metadata": {},
   "outputs": [],
   "source": []
  },
  {
   "cell_type": "code",
   "execution_count": null,
   "metadata": {},
   "outputs": [],
   "source": []
  },
  {
   "cell_type": "code",
   "execution_count": null,
   "metadata": {},
   "outputs": [],
   "source": []
  },
  {
   "cell_type": "code",
   "execution_count": null,
   "metadata": {},
   "outputs": [],
   "source": []
  },
  {
   "cell_type": "code",
   "execution_count": null,
   "metadata": {},
   "outputs": [],
   "source": []
  },
  {
   "cell_type": "code",
   "execution_count": null,
   "metadata": {},
   "outputs": [],
   "source": []
  },
  {
   "cell_type": "code",
   "execution_count": null,
   "metadata": {},
   "outputs": [],
   "source": []
  },
  {
   "cell_type": "code",
   "execution_count": null,
   "metadata": {},
   "outputs": [],
   "source": []
  },
  {
   "cell_type": "code",
   "execution_count": null,
   "metadata": {},
   "outputs": [],
   "source": []
  },
  {
   "cell_type": "markdown",
   "metadata": {},
   "source": [
    "# 4、构建房价预测模型"
   ]
  },
  {
   "cell_type": "code",
   "execution_count": 25,
   "metadata": {},
   "outputs": [
    {
     "name": "stdout",
     "output_type": "stream",
     "text": [
      "[-267.64092896] [[8.13762926]]\n"
     ]
    }
   ],
   "source": [
    "# 先根据建筑面积和房屋总价训练模型（一元线性回归）\n",
    "from sklearn.linear_model import LinearRegression\n",
    "linear = LinearRegression()\n",
    "area = np.array(area).reshape(-1,1) # 这里需要注意新版的sklearn需要将数据转换为矩阵才能进行计算\n",
    "price = np.array(price).reshape(-1,1)\n",
    "# 训练模型\n",
    "model = linear.fit(area,price)\n",
    "# 打印截距和回归系数\n",
    "print(model.intercept_, model.coef_)"
   ]
  },
  {
   "cell_type": "code",
   "execution_count": 26,
   "metadata": {},
   "outputs": [
    {
     "data": {
      "image/png": "[encoded data removed]",
      "text/plain": [
       "<Figure size 864x432 with 1 Axes>"
      ]
     },
     "metadata": {
      "needs_background": "light"
     },
     "output_type": "display_data"
    }
   ],
   "source": [
    "# 线性回归可视化(数据拟合)\n",
    "linear_p = model.predict(area)\n",
    "plt.figure(figsize=(12,6))\n",
    "plt.scatter(area,price)\n",
    "plt.plot(area,linear_p,'red')\n",
    "plt.xlabel(\"area\")\n",
    "plt.ylabel(\"price\")\n",
    "plt.show()"
   ]
  },
  {
   "cell_type": "markdown",
   "metadata": {},
   "source": [
    "### 多特征模型训练（多元线性回归）"
   ]
  },
  {
   "cell_type": "code",
   "execution_count": 27,
   "metadata": {},
   "outputs": [],
   "source": [
    "cols = ['建筑面积','室', '厅', '卫', '东',  '北', '南', '西',\n",
    "        '低层', '高层', '毛坯', '简装修', '精装修', '豪华装修']"
   ]
  },
  {
   "cell_type": "code",
   "execution_count": 28,
   "metadata": {},
   "outputs": [
    {
     "data": {
      "text/html": [
       "<div>\n",
       "<style scoped>\n",
       "    .dataframe tbody tr th:only-of-type {\n",
       "        vertical-align: middle;\n",
       "    }\n",
       "\n",
       "    .dataframe tbody tr th {\n",
       "        vertical-align: top;\n",
       "    }\n",
       "\n",
       "    .dataframe thead th {\n",
       "        text-align: right;\n",
       "    }\n",
       "</style>\n",
       "<table border=\"1\" class=\"dataframe\">\n",
       "  <thead>\n",
       "    <tr style=\"text-align: right;\">\n",
       "      <th></th>\n",
       "      <th>建筑面积</th>\n",
       "      <th>室</th>\n",
       "      <th>厅</th>\n",
       "      <th>卫</th>\n",
       "      <th>东</th>\n",
       "      <th>北</th>\n",
       "      <th>南</th>\n",
       "      <th>西</th>\n",
       "      <th>低层</th>\n",
       "      <th>高层</th>\n",
       "      <th>毛坯</th>\n",
       "      <th>简装修</th>\n",
       "      <th>精装修</th>\n",
       "      <th>豪华装修</th>\n",
       "    </tr>\n",
       "  </thead>\n",
       "  <tbody>\n",
       "    <tr>\n",
       "      <th>0</th>\n",
       "      <td>104.58</td>\n",
       "      <td>2.0</td>\n",
       "      <td>2.0</td>\n",
       "      <td>2.0</td>\n",
       "      <td>0</td>\n",
       "      <td>0</td>\n",
       "      <td>0</td>\n",
       "      <td>0</td>\n",
       "      <td>1</td>\n",
       "      <td>0</td>\n",
       "      <td>0</td>\n",
       "      <td>1</td>\n",
       "      <td>0</td>\n",
       "      <td>0</td>\n",
       "    </tr>\n",
       "    <tr>\n",
       "      <th>1</th>\n",
       "      <td>201.61</td>\n",
       "      <td>5.0</td>\n",
       "      <td>2.0</td>\n",
       "      <td>2.0</td>\n",
       "      <td>0</td>\n",
       "      <td>0</td>\n",
       "      <td>0</td>\n",
       "      <td>0</td>\n",
       "      <td>0</td>\n",
       "      <td>1</td>\n",
       "      <td>0</td>\n",
       "      <td>0</td>\n",
       "      <td>0</td>\n",
       "      <td>1</td>\n",
       "    </tr>\n",
       "    <tr>\n",
       "      <th>2</th>\n",
       "      <td>128.56</td>\n",
       "      <td>3.0</td>\n",
       "      <td>2.0</td>\n",
       "      <td>2.0</td>\n",
       "      <td>0</td>\n",
       "      <td>0</td>\n",
       "      <td>0</td>\n",
       "      <td>0</td>\n",
       "      <td>0</td>\n",
       "      <td>0</td>\n",
       "      <td>0</td>\n",
       "      <td>0</td>\n",
       "      <td>0</td>\n",
       "      <td>0</td>\n",
       "    </tr>\n",
       "    <tr>\n",
       "      <th>3</th>\n",
       "      <td>92.00</td>\n",
       "      <td>3.0</td>\n",
       "      <td>2.0</td>\n",
       "      <td>1.0</td>\n",
       "      <td>0</td>\n",
       "      <td>0</td>\n",
       "      <td>0</td>\n",
       "      <td>0</td>\n",
       "      <td>0</td>\n",
       "      <td>0</td>\n",
       "      <td>0</td>\n",
       "      <td>0</td>\n",
       "      <td>1</td>\n",
       "      <td>0</td>\n",
       "    </tr>\n",
       "    <tr>\n",
       "      <th>4</th>\n",
       "      <td>118.31</td>\n",
       "      <td>3.0</td>\n",
       "      <td>2.0</td>\n",
       "      <td>2.0</td>\n",
       "      <td>0</td>\n",
       "      <td>0</td>\n",
       "      <td>0</td>\n",
       "      <td>0</td>\n",
       "      <td>0</td>\n",
       "      <td>1</td>\n",
       "      <td>0</td>\n",
       "      <td>1</td>\n",
       "      <td>0</td>\n",
       "      <td>0</td>\n",
       "    </tr>\n",
       "  </tbody>\n",
       "</table>\n",
       "</div>"
      ],
      "text/plain": [
       "     建筑面积    室    厅    卫  东  北  南  西  低层  高层  毛坯  简装修  精装修  豪华装修\n",
       "0  104.58  2.0  2.0  2.0  0  0  0  0   1   0   0    1    0     0\n",
       "1  201.61  5.0  2.0  2.0  0  0  0  0   0   1   0    0    0     1\n",
       "2  128.56  3.0  2.0  2.0  0  0  0  0   0   0   0    0    0     0\n",
       "3   92.00  3.0  2.0  1.0  0  0  0  0   0   0   0    0    1     0\n",
       "4  118.31  3.0  2.0  2.0  0  0  0  0   0   1   0    1    0     0"
      ]
     },
     "execution_count": 28,
     "metadata": {},
     "output_type": "execute_result"
    }
   ],
   "source": [
    "X = df[cols]\n",
    "X.head()"
   ]
  },
  {
   "cell_type": "code",
   "execution_count": 29,
   "metadata": {},
   "outputs": [
    {
     "data": {
      "text/plain": [
       "0     430.0\n",
       "1    1280.0\n",
       "2     750.0\n",
       "3     430.0\n",
       "4     520.0\n",
       "Name: 房屋总价, dtype: float64"
      ]
     },
     "execution_count": 29,
     "metadata": {},
     "output_type": "execute_result"
    }
   ],
   "source": [
    "y = df['房屋总价']\n",
    "y.head()"
   ]
  },
  {
   "cell_type": "code",
   "execution_count": 30,
   "metadata": {},
   "outputs": [
    {
     "name": "stdout",
     "output_type": "stream",
     "text": [
      "<class 'pandas.core.frame.DataFrame'>\n",
      "<class 'pandas.core.series.Series'>\n",
      "(4406, 14) (4406,)\n",
      "(1102, 14) (1102,)\n"
     ]
    }
   ],
   "source": [
    "print(type(X))\n",
    "print(type(y))\n",
    "# 使用train_test_split进行交叉验证\n",
    "from sklearn.model_selection import train_test_split\n",
    "x_train, x_test, y_train, y_test = train_test_split(X,y,test_size=0.2,random_state=12)\n",
    "print(x_train.shape,y_train.shape)\n",
    "print(x_test.shape,y_test.shape)"
   ]
  },
  {
   "cell_type": "code",
   "execution_count": 31,
   "metadata": {},
   "outputs": [
    {
     "name": "stdout",
     "output_type": "stream",
     "text": [
      "-191.98883969879705 [  6.82886362  32.00891969 -36.97685847   7.62975232  22.99531968\n",
      "  31.22563871  73.15256729  36.61648837   3.80023165 -10.72026459\n",
      "  70.35418699  -3.4625147   49.06198269 126.47987378]\n"
     ]
    }
   ],
   "source": [
    "# 模型训练\n",
    "linear = LinearRegression()\n",
    "model = linear.fit(x_train,y_train)\n",
    "print(model.intercept_, model.coef_)"
   ]
  },
  {
   "cell_type": "code",
   "execution_count": 32,
   "metadata": {},
   "outputs": [
    {
     "name": "stdout",
     "output_type": "stream",
     "text": [
      "模型得分： 0.7634014501966522\n"
     ]
    }
   ],
   "source": [
    "# 模型性能评分\n",
    "price_end = model.predict(x_test)\n",
    "score = model.score(x_test,y_test) \n",
    "print(\"模型得分：\",score)# 一般模型在0.6以上就表现的不错"
   ]
  },
  {
   "cell_type": "markdown",
   "metadata": {},
   "source": [
    "### 使用多种特征组合都可以预测房价，那么怎么找出最佳组合，这里使用假设验证法，选出最佳特征组合"
   ]
  },
  {
   "cell_type": "code",
   "execution_count": null,
   "metadata": {},
   "outputs": [],
   "source": [
    "# 使用假设验证法，选出最佳特征组合\n",
    "cols = ['建筑面积','室', '厅', '卫', '东', '东北', '东南', '北', '南', '西',\n",
    "       '西北', '西南', '低层', '高层', '毛坯', '简装修', '精装修', '豪华装修']\n",
    "import statsmodels.api as sm\n",
    "Y = df['房屋总价']\n",
    "X = df[cols]\n",
    "X_ = sm.add_constant(X) #增加一列值为1的const列，保证偏置项的正常\n",
    "#print(X_)\n",
    "# 使用最小平方法\n",
    "result = sm.OLS(Y,X_)\n",
    "# 使用fit方法进行计算\n",
    "summary = result.fit()\n",
    "# 调用summary2方法打印出假设验证信息（性能指标）\n",
    "summary.summary2() # R-squared:模型评分 AIC：组合完越小越好"
   ]
  },
  {
   "cell_type": "markdown",
   "metadata": {},
   "source": [
    "名词解释\n",
    "\n",
    "- coef 回归系数\n",
    "- Std.Err 标准差\n",
    "- t 虚无假设成立时的t值\n",
    "- P>|t| 虚无假设成立时的概率值\n",
    "- [0.025,0.975] 97.5%置信估计区间\n",
    "- 要做假设性验证，首先要设置显著性标准。\n",
    "- a.假设显著性标准是0.01\n",
    "- b.推翻虚无假设的标准是p<0.01\n",
    "- c.上面的SqFt的t=9.2416，P(>5) = 0.0000 < 0.01,因此虚无假设被推翻（这里的虚无假设是SqFt对price的回归系数为0，即SqFt与price不相关）\n",
    "\n",
    "F统计\n",
    "- 回归平方和Regression Square Sum[RSS]:依变量的变化归咎于回归模型A=sum((y-y_)^2\n",
    "- 误差平方和Error Square Sum[ESS]:依变量的变化归咎于线性模型B=sum((y-y_)^2\n",
    "- 总的平方和Total Square Sum[TSS]:依变量整体变化C=A+B\n",
    "- 回归平方平均Model Mean Square:=RSS/Regression d.f(k) k=自变量的数量\n",
    "- 误差平方平均Error Mean square:=ESS/Error d.f(n-k-1) n=观测值得数量\n",
    "- F统计F=Model Mean Square /Error Mean Square\n",
    "- F值越大越好，Prob(F-statistic)越小越好\n",
    "\n",
    "R Square\n",
    "- 回归可以解释变量比例，可以作为自变量预测因变量准确度的指标\n",
    "- SSE(残差平方和) = sum((y-y_)^2)\n",
    "- SST(整体平方和）= sum((yi-yavg)^2\n",
    "- R^2 = 1-SEE/SST 一般要大于0.6,0.7才算好\n",
    "\n",
    "Adjust R Square\n",
    "- R^2 = 1-SSE/SST SSE最小，推导出R^2不会递减\n",
    "- yi = b1x1 + b2x2 +...+bkxk+...增加任何一个变量都会增加R^2\n",
    "- Adj R^2 = 1-(1-R^2) * ((n-1)/(n-p-1))\n",
    "- n为总体大小，p为回归因子个数\n",
    "\n",
    "AIC/BIC\n",
    "- AIC(The Akaike Information Criterion)= 2K + nln(SSE/n) K是参数数量，n是观察数，SSE是残差平方和。\n",
    "- AIC鼓励数据拟合的优良性，但是应该尽量避免过拟合，所以优先考虑的模型应该是AIC最小的哪一个，\n",
    "- 赤池信息量的准则是寻找可以最好的解释数据但是包含最少自由参数的模型。"
   ]
  },
  {
   "cell_type": "code",
   "execution_count": null,
   "metadata": {},
   "outputs": [],
   "source": [
    "import itertools\n",
    "\n",
    "list1 = [1, 2,3, 4, 5,6,7,8,9,10,11,12,13,14,15,16] #特征超过16个将发生异常\n",
    "list2 = []\n",
    "for i in range(1, len(list1)+1):\n",
    "    iter1 = itertools.combinations(list1, i)\n",
    "    list2.append(list(iter1))\n",
    "#print(list2)"
   ]
  },
  {
   "cell_type": "code",
   "execution_count": null,
   "metadata": {},
   "outputs": [],
   "source": [
    "import itertools\n",
    "# 使用itertools，找出AIC最小值的特征组合作为模型训练的特征\n",
    "# 寻找最小AIC值的特征组合\n",
    "fileds = ['建筑面积','室', '厅', '卫', '东','北', '南', '西','低层', '高层', '毛坯', '简装修', '精装修', '豪华装修']\n",
    "acis = {}\n",
    "for i in range(1,len(fileds)+1):\n",
    "    for virables in itertools.combinations(fileds,i): #从fileds中随机选择i个特征机型组合，返回的virables为元组类型\n",
    "        x1 = sm.add_constant(df[list(virables)])\n",
    "        x2 = sm.OLS(Y,x1)\n",
    "        res = x2.fit()\n",
    "        acis[virables] = res.aic # AIC评分越小越好"
   ]
  },
  {
   "cell_type": "code",
   "execution_count": null,
   "metadata": {},
   "outputs": [],
   "source": [
    "from collections import Counter\n",
    "# 对字典进行统计\n",
    "counter = Counter(acis)\n",
    "# 降序选出AIC最小的10个数，也就是最佳特征组合\n",
    "counter.most_common()[-10:] "
   ]
  },
  {
   "cell_type": "code",
   "execution_count": null,
   "metadata": {},
   "outputs": [],
   "source": [
    "# 接下来使用AIC值最小的特征组合进行预测\n",
    "col2 = ['建筑面积', '室', '厅', '东', '南', '高层', '毛坯', '精装修', '豪华装修']\n",
    "X = df[col2]\n",
    "y = df['房屋总价']\n",
    "x_train, x_test, y_train, y_test = train_test_split(X,y,test_size=0.2,random_state=13)\n",
    "linear = LinearRegression()\n",
    "model = linear.fit(x_train,y_train)\n",
    "model.score(x_test,y_test) # 模型性能有所提高，但是提升的不明显"
   ]
  },
  {
   "cell_type": "markdown",
   "metadata": {},
   "source": [
    "# 5、房价的预测"
   ]
  },
  {
   "cell_type": "markdown",
   "metadata": {},
   "source": [
    "现在我们可以根据给定的最佳特征组合进行预测房价"
   ]
  },
  {
   "cell_type": "code",
   "execution_count": null,
   "metadata": {},
   "outputs": [],
   "source": [
    "# 假设我要买一套房子（想想就觉得很美），房子面积120平米，3室，1厅，南面，高层，精装修\n",
    "my_house = [120,3,1,0,1,1,0,1,0] #根据col2特征\n",
    "my_house = np.array(my_house).reshape(-1,1).T\n",
    "#print(x_test)\n",
    "model.predict(my_house)# 预测价格"
   ]
  },
  {
   "cell_type": "markdown",
   "metadata": {},
   "source": [
    "End···"
   ]
  }
 ],
 "metadata": {
  "kernelspec": {
   "display_name": "Python 3",
   "language": "python",
   "name": "python3"
  },
  "language_info": {
   "codemirror_mode": {
    "name": "ipython",
    "version": 3
   },
   "file_extension": ".py",
   "mimetype": "text/x-python",
   "name": "python",
   "nbconvert_exporter": "python",
   "pygments_lexer": "ipython3",
   "version": "3.7.1"
  }
 },
 "nbformat": 4,
 "nbformat_minor": 2
}
